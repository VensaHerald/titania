{
  "nbformat": 4,
  "nbformat_minor": 0,
  "metadata": {
    "colab": {
      "name": "titania",
      "version": "0.3.2",
      "provenance": [],
      "toc_visible": true,
      "include_colab_link": true
    },
    "kernelspec": {
      "name": "python3",
      "display_name": "Python 3"
    }
  },
  "cells": [
    {
      "cell_type": "markdown",
      "metadata": {
        "id": "view-in-github",
        "colab_type": "text"
      },
      "source": [
        "<a href=\"https://colab.research.google.com/github/VensaHerald/titania/blob/master/titania.ipynb\" target=\"_parent\"><img src=\"https://colab.research.google.com/assets/colab-badge.svg\" alt=\"Open In Colab\"/></a>"
      ]
    },
    {
      "cell_type": "code",
      "metadata": {
        "id": "K4W2IMN7JUhR",
        "colab_type": "code",
        "colab": {}
      },
      "source": [
        "from google.colab import files\n",
        "import io\n",
        "import pandas as pd\n",
        "import matplotlib.pyplot as plt\n",
        "import numpy as np\n",
        "%matplotlib inline"
      ],
      "execution_count": 0,
      "outputs": []
    },
    {
      "cell_type": "code",
      "metadata": {
        "id": "FOOq6ae5GHR_",
        "colab_type": "code",
        "outputId": "f530e56b-a323-4f3c-8ac1-256c1ac49870",
        "colab": {
          "base_uri": "https://localhost:8080/",
          "height": 229
        }
      },
      "source": [
        "url = \"https://raw.githubusercontent.com/VensaHerald/titania/master/train.csv\"\n",
        "df_t = pd.read_csv(url)\n",
        "df_t.head()"
      ],
      "execution_count": 3,
      "outputs": [
        {
          "output_type": "execute_result",
          "data": {
            "text/html": [
              "<div>\n",
              "<style scoped>\n",
              "    .dataframe tbody tr th:only-of-type {\n",
              "        vertical-align: middle;\n",
              "    }\n",
              "\n",
              "    .dataframe tbody tr th {\n",
              "        vertical-align: top;\n",
              "    }\n",
              "\n",
              "    .dataframe thead th {\n",
              "        text-align: right;\n",
              "    }\n",
              "</style>\n",
              "<table border=\"1\" class=\"dataframe\">\n",
              "  <thead>\n",
              "    <tr style=\"text-align: right;\">\n",
              "      <th></th>\n",
              "      <th>PassengerId</th>\n",
              "      <th>Survived</th>\n",
              "      <th>Pclass</th>\n",
              "      <th>Name</th>\n",
              "      <th>Sex</th>\n",
              "      <th>Age</th>\n",
              "      <th>SibSp</th>\n",
              "      <th>Parch</th>\n",
              "      <th>Ticket</th>\n",
              "      <th>Fare</th>\n",
              "      <th>Cabin</th>\n",
              "      <th>Embarked</th>\n",
              "    </tr>\n",
              "  </thead>\n",
              "  <tbody>\n",
              "    <tr>\n",
              "      <th>0</th>\n",
              "      <td>1</td>\n",
              "      <td>0</td>\n",
              "      <td>3</td>\n",
              "      <td>Braund, Mr. Owen Harris</td>\n",
              "      <td>male</td>\n",
              "      <td>22.0</td>\n",
              "      <td>1</td>\n",
              "      <td>0</td>\n",
              "      <td>A/5 21171</td>\n",
              "      <td>7.2500</td>\n",
              "      <td>NaN</td>\n",
              "      <td>S</td>\n",
              "    </tr>\n",
              "    <tr>\n",
              "      <th>1</th>\n",
              "      <td>2</td>\n",
              "      <td>1</td>\n",
              "      <td>1</td>\n",
              "      <td>Cumings, Mrs. John Bradley (Florence Briggs Th...</td>\n",
              "      <td>female</td>\n",
              "      <td>38.0</td>\n",
              "      <td>1</td>\n",
              "      <td>0</td>\n",
              "      <td>PC 17599</td>\n",
              "      <td>71.2833</td>\n",
              "      <td>C85</td>\n",
              "      <td>C</td>\n",
              "    </tr>\n",
              "    <tr>\n",
              "      <th>2</th>\n",
              "      <td>3</td>\n",
              "      <td>1</td>\n",
              "      <td>3</td>\n",
              "      <td>Heikkinen, Miss. Laina</td>\n",
              "      <td>female</td>\n",
              "      <td>26.0</td>\n",
              "      <td>0</td>\n",
              "      <td>0</td>\n",
              "      <td>STON/O2. 3101282</td>\n",
              "      <td>7.9250</td>\n",
              "      <td>NaN</td>\n",
              "      <td>S</td>\n",
              "    </tr>\n",
              "    <tr>\n",
              "      <th>3</th>\n",
              "      <td>4</td>\n",
              "      <td>1</td>\n",
              "      <td>1</td>\n",
              "      <td>Futrelle, Mrs. Jacques Heath (Lily May Peel)</td>\n",
              "      <td>female</td>\n",
              "      <td>35.0</td>\n",
              "      <td>1</td>\n",
              "      <td>0</td>\n",
              "      <td>113803</td>\n",
              "      <td>53.1000</td>\n",
              "      <td>C123</td>\n",
              "      <td>S</td>\n",
              "    </tr>\n",
              "    <tr>\n",
              "      <th>4</th>\n",
              "      <td>5</td>\n",
              "      <td>0</td>\n",
              "      <td>3</td>\n",
              "      <td>Allen, Mr. William Henry</td>\n",
              "      <td>male</td>\n",
              "      <td>35.0</td>\n",
              "      <td>0</td>\n",
              "      <td>0</td>\n",
              "      <td>373450</td>\n",
              "      <td>8.0500</td>\n",
              "      <td>NaN</td>\n",
              "      <td>S</td>\n",
              "    </tr>\n",
              "  </tbody>\n",
              "</table>\n",
              "</div>"
            ],
            "text/plain": [
              "   PassengerId  Survived  Pclass  ...     Fare Cabin  Embarked\n",
              "0            1         0       3  ...   7.2500   NaN         S\n",
              "1            2         1       1  ...  71.2833   C85         C\n",
              "2            3         1       3  ...   7.9250   NaN         S\n",
              "3            4         1       1  ...  53.1000  C123         S\n",
              "4            5         0       3  ...   8.0500   NaN         S\n",
              "\n",
              "[5 rows x 12 columns]"
            ]
          },
          "metadata": {
            "tags": []
          },
          "execution_count": 3
        }
      ]
    },
    {
      "cell_type": "markdown",
      "metadata": {
        "id": "cOFPlzXwO2eS",
        "colab_type": "text"
      },
      "source": [
        "###Did more men or women die on the Titanic\n"
      ]
    },
    {
      "cell_type": "code",
      "metadata": {
        "id": "olg3dZm8Ow-K",
        "colab_type": "code",
        "outputId": "20e7193a-d790-47ad-e04f-5db48322e900",
        "colab": {
          "base_uri": "https://localhost:8080/",
          "height": 67
        }
      },
      "source": [
        "df_t[df_t[\"Survived\"]==0][\"Sex\"].value_counts()"
      ],
      "execution_count": 4,
      "outputs": [
        {
          "output_type": "execute_result",
          "data": {
            "text/plain": [
              "male      468\n",
              "female     81\n",
              "Name: Sex, dtype: int64"
            ]
          },
          "metadata": {
            "tags": []
          },
          "execution_count": 4
        }
      ]
    },
    {
      "cell_type": "code",
      "metadata": {
        "id": "PPeFLAVlVbNV",
        "colab_type": "code",
        "outputId": "e293c219-ddf0-487d-cec4-4110fb2a7e73",
        "colab": {
          "base_uri": "https://localhost:8080/",
          "height": 34
        }
      },
      "source": [
        "df_t[df_t[\"Age\"].isna()].shape[0]/df_t.shape[0]"
      ],
      "execution_count": 5,
      "outputs": [
        {
          "output_type": "execute_result",
          "data": {
            "text/plain": [
              "0.19865319865319866"
            ]
          },
          "metadata": {
            "tags": []
          },
          "execution_count": 5
        }
      ]
    },
    {
      "cell_type": "markdown",
      "metadata": {
        "id": "NiP03zx7PYTj",
        "colab_type": "text"
      },
      "source": [
        "###What was the average age of those who died, and those who survived?\n",
        "Before I can answer this, I need to sort out the data. From the above cell we can see that there are 20% rows missing age data.  So I will need to drop these from the dataset before beginning\n"
      ]
    },
    {
      "cell_type": "code",
      "metadata": {
        "id": "eKmkTq-_TE5-",
        "colab_type": "code",
        "outputId": "541abfa3-75d0-4c6a-854b-dcf56ee8d121",
        "colab": {
          "base_uri": "https://localhost:8080/",
          "height": 47
        }
      },
      "source": [
        "df_dr_age = df_t.dropna(subset=[\"Age\"])\n",
        "df_dr_age[df_dr_age[\"Age\"].isna()]"
      ],
      "execution_count": 6,
      "outputs": [
        {
          "output_type": "execute_result",
          "data": {
            "text/html": [
              "<div>\n",
              "<style scoped>\n",
              "    .dataframe tbody tr th:only-of-type {\n",
              "        vertical-align: middle;\n",
              "    }\n",
              "\n",
              "    .dataframe tbody tr th {\n",
              "        vertical-align: top;\n",
              "    }\n",
              "\n",
              "    .dataframe thead th {\n",
              "        text-align: right;\n",
              "    }\n",
              "</style>\n",
              "<table border=\"1\" class=\"dataframe\">\n",
              "  <thead>\n",
              "    <tr style=\"text-align: right;\">\n",
              "      <th></th>\n",
              "      <th>PassengerId</th>\n",
              "      <th>Survived</th>\n",
              "      <th>Pclass</th>\n",
              "      <th>Name</th>\n",
              "      <th>Sex</th>\n",
              "      <th>Age</th>\n",
              "      <th>SibSp</th>\n",
              "      <th>Parch</th>\n",
              "      <th>Ticket</th>\n",
              "      <th>Fare</th>\n",
              "      <th>Cabin</th>\n",
              "      <th>Embarked</th>\n",
              "    </tr>\n",
              "  </thead>\n",
              "  <tbody>\n",
              "  </tbody>\n",
              "</table>\n",
              "</div>"
            ],
            "text/plain": [
              "Empty DataFrame\n",
              "Columns: [PassengerId, Survived, Pclass, Name, Sex, Age, SibSp, Parch, Ticket, Fare, Cabin, Embarked]\n",
              "Index: []"
            ]
          },
          "metadata": {
            "tags": []
          },
          "execution_count": 6
        }
      ]
    },
    {
      "cell_type": "markdown",
      "metadata": {
        "id": "u4LxorcJZnX6",
        "colab_type": "text"
      },
      "source": [
        "Now these values have been dropped we can look at this column in more detail.  We'll do a histogram to get the lay of the land regarding the distribution of each group (whole pop, survived, non-survived).  And then produce the values of the mean at the end."
      ]
    },
    {
      "cell_type": "code",
      "metadata": {
        "id": "nL8ljjTgZzIK",
        "colab_type": "code",
        "colab": {
          "base_uri": "https://localhost:8080/",
          "height": 934
        },
        "outputId": "f6a08280-ab46-4085-8bbb-2f1992dde5bf"
      },
      "source": [
        "survived = df_dr_age[df_dr_age[\"Survived\"] == 1]\n",
        "died = df_dr_age[df_dr_age[\"Survived\"] == 0]\n",
        "titles = [\"Whole\",\"Survivors\",\"Non-survivors\"]\n",
        "fig = plt.figure(figsize=(6,16))\n",
        "\n",
        "for a in range(0,3):\n",
        "    ax = fig.add_subplot(3,1,a+1)\n",
        "    ax.set_ylim(0,80)\n",
        "    ax.set_title(titles[a])\n",
        "    ax.tick_params(bottom=False, right=False, top=False, left=False)\n",
        "    ax.set_xticks([])\n",
        "    ax.set_yticks([])\n",
        "    \n",
        "    for key, spine in ax.spines.items():\n",
        "        spine.set_visible(False)\n",
        "\n",
        "    if a == 0:\n",
        "        ax.hist(df_dr_age[\"Age\"], range=(0,80),bins=16)\n",
        "        ax.set_ylim((0,120))\n",
        "        \n",
        "    elif a == 1:\n",
        "        ax.hist(survived[\"Age\"], range=(0,80), bins=16)\n",
        "    else:\n",
        "        ax.hist(died[\"Age\"], range=(0,80),bins=16)\n",
        "        ax.tick_params(bottom=True)\n",
        "        ax.set_xticks([0,20,40,60,80])\n"
      ],
      "execution_count": 39,
      "outputs": [
        {
          "output_type": "display_data",
          "data": {
            "image/png": "[encoded data removed]",
            "text/plain": [
              "<Figure size 432x1152 with 3 Axes>"
            ]
          },
          "metadata": {
            "tags": []
          }
        }
      ]
    },
    {
      "cell_type": "code",
      "metadata": {
        "id": "AKtA4XB4geQ5",
        "colab_type": "code",
        "colab": {
          "base_uri": "https://localhost:8080/",
          "height": 50
        },
        "outputId": "351e3e43-b755-4d2e-c7aa-ad8502c71641"
      },
      "source": [
        "mean_sur = round(survived[\"Age\"].mean(),2)\n",
        "mean_nsur = round(died[\"Age\"].mean(),2)\n",
        "print(\"Mean survivor was:{}. \\nMean non-survivor was:{}\".format(mean_sur, mean_nsur))"
      ],
      "execution_count": 38,
      "outputs": [
        {
          "output_type": "stream",
          "text": [
            "Mean survivor was:28.34. \n",
            "Mean non-survivor was:30.63\n"
          ],
          "name": "stdout"
        }
      ]
    },
    {
      "cell_type": "markdown",
      "metadata": {
        "id": "iueZOSXBhGNT",
        "colab_type": "text"
      },
      "source": [
        "###Is there any correlation between rate of surviving and Age\n",
        "We'll produce a scatter chart to determine whether there is a visible correlation between these two properies."
      ]
    },
    {
      "cell_type": "code",
      "metadata": {
        "id": "QGMhTUntiawL",
        "colab_type": "code",
        "colab": {
          "base_uri": "https://localhost:8080/",
          "height": 502
        },
        "outputId": "24c5fda0-0024-480f-a355-cae33b81cece"
      },
      "source": [
        "fig = plt.figure(figsize=(8,8))\n",
        "ax = fig.add_subplot(1,1,1)\n",
        "ax.scatter(df_dr_age[\"Survived\"], df_dr_age[\"Age\"])"
      ],
      "execution_count": 41,
      "outputs": [
        {
          "output_type": "execute_result",
          "data": {
            "text/plain": [
              "<matplotlib.collections.PathCollection at 0x7f03a89a6fd0>"
            ]
          },
          "metadata": {
            "tags": []
          },
          "execution_count": 41
        },
        {
          "output_type": "display_data",
          "data": {
            "image/png": "[encoded data removed]",
            "text/plain": [
              "<Figure size 576x576 with 1 Axes>"
            ]
          },
          "metadata": {
            "tags": []
          }
        }
      ]
    },
    {
      "cell_type": "markdown",
      "metadata": {
        "id": "nKnC4mHpsyOm",
        "colab_type": "text"
      },
      "source": [
        "This is hard to view any kind of correlation, so lets look at this mathematically.\n",
        "\n",
        "First lets look at the variance of the \"Age\" parameter for each person (sample)."
      ]
    },
    {
      "cell_type": "code",
      "metadata": {
        "id": "XnVZgDjEtDUK",
        "colab_type": "code",
        "colab": {
          "base_uri": "https://localhost:8080/",
          "height": 34
        },
        "outputId": "d40673a9-8790-44f4-9ee7-d0d4a91f634a"
      },
      "source": [
        "variance_age = ((df_dr_age[\"Age\"] - df_dr_age[\"Age\"].mean())**2).mean()\n",
        "n = df_dr_age.shape[0]\n",
        "variance_age * (n/(n-1))\n",
        "\n",
        "variance_sur = ((df_dr_age[\"Survived\"] - df_dr_age[\"Survived\"].mean())**2).mean()\n",
        "variance_sur"
      ],
      "execution_count": 53,
      "outputs": [
        {
          "output_type": "execute_result",
          "data": {
            "text/plain": [
              "0.24119451702249717"
            ]
          },
          "metadata": {
            "tags": []
          },
          "execution_count": 53
        }
      ]
    },
    {
      "cell_type": "markdown",
      "metadata": {
        "id": "KxWX5RcTxyOa",
        "colab_type": "text"
      },
      "source": [
        "And the standard deviation"
      ]
    },
    {
      "cell_type": "code",
      "metadata": {
        "id": "EWjXJ6jrxxMo",
        "colab_type": "code",
        "colab": {}
      },
      "source": [
        "std_dev_age = variance_age ** 0.5\n",
        "\n",
        "std_dev_sur = variance_sur ** 0.5"
      ],
      "execution_count": 0,
      "outputs": []
    },
    {
      "cell_type": "markdown",
      "metadata": {
        "id": "3HaHEbTLyk8r",
        "colab_type": "text"
      },
      "source": [
        "Now lets calculate the Pearsons correlation coefficient for the Age parameter and survived parameters.  Starting with the covariance of each parameter"
      ]
    },
    {
      "cell_type": "code",
      "metadata": {
        "id": "2-tq5nsyytAI",
        "colab_type": "code",
        "colab": {}
      },
      "source": [
        "#@params x - pandas series\n",
        "#@params y - pandas series\n",
        "def pear_cor(x, y):\n",
        "    cov = ((x - x.mean()) * (y - y.mean())).mean()\n",
        "    std_dev_x = ((x - x.mean())**2).mean()**0.5\n",
        "    std_dev_y = ((y - y.mean())**2).mean()**0.5\n",
        "    return cov / (std_dev_x * std_dev_y)\n",
        "\n",
        "\n",
        "cov = (df_dr_age[\"Age\"] - df_dr_age[\"Age\"].mean()) * (df_dr_age[\"Survived\"] - df_dr_age[\"Survived\"].mean())\n",
        "cov = cov.mean()\n"
      ],
      "execution_count": 0,
      "outputs": []
    },
    {
      "cell_type": "code",
      "metadata": {
        "id": "g16V5uLp0Dyx",
        "colab_type": "code",
        "colab": {
          "base_uri": "https://localhost:8080/",
          "height": 34
        },
        "outputId": "4b6beea2-cfe1-48cf-ee6c-946430eeede6"
      },
      "source": [
        "pear_cor_1 = cov / (std_dev_age * std_dev_sur)\n",
        "pear_cor_1"
      ],
      "execution_count": 70,
      "outputs": [
        {
          "output_type": "execute_result",
          "data": {
            "text/plain": [
              "-0.07722109457217735"
            ]
          },
          "metadata": {
            "tags": []
          },
          "execution_count": 70
        }
      ]
    },
    {
      "cell_type": "code",
      "metadata": {
        "id": "JsOuBPEQ1oJL",
        "colab_type": "code",
        "colab": {
          "base_uri": "https://localhost:8080/",
          "height": 34
        },
        "outputId": "7fa1022f-5dbf-47a1-899b-569243ba338d"
      },
      "source": [
        "pear_cor_test = pear_cor(df_dr_age[\"Age\"], df_dr_age[\"Survived\"])\n",
        "pear_cor_test"
      ],
      "execution_count": 72,
      "outputs": [
        {
          "output_type": "execute_result",
          "data": {
            "text/plain": [
              "-0.07722109457217735"
            ]
          },
          "metadata": {
            "tags": []
          },
          "execution_count": 72
        }
      ]
    },
    {
      "cell_type": "markdown",
      "metadata": {
        "id": "fQrFBH3U2HMx",
        "colab_type": "text"
      },
      "source": [
        "This appears to be a very weak negative correlation, let us compare it with other Pearsons values for Survived and other parameters."
      ]
    },
    {
      "cell_type": "code",
      "metadata": {
        "id": "0ub5EdA52RQH",
        "colab_type": "code",
        "colab": {
          "base_uri": "https://localhost:8080/",
          "height": 302
        },
        "outputId": "b63a9cb2-c605-4bad-da47-3f4654b0e8d0"
      },
      "source": [
        "df_dr_age.info()"
      ],
      "execution_count": 73,
      "outputs": [
        {
          "output_type": "stream",
          "text": [
            "<class 'pandas.core.frame.DataFrame'>\n",
            "Int64Index: 714 entries, 0 to 890\n",
            "Data columns (total 12 columns):\n",
            "PassengerId    714 non-null int64\n",
            "Survived       714 non-null int64\n",
            "Pclass         714 non-null int64\n",
            "Name           714 non-null object\n",
            "Sex            714 non-null object\n",
            "Age            714 non-null float64\n",
            "SibSp          714 non-null int64\n",
            "Parch          714 non-null int64\n",
            "Ticket         714 non-null object\n",
            "Fare           714 non-null float64\n",
            "Cabin          185 non-null object\n",
            "Embarked       712 non-null object\n",
            "dtypes: float64(2), int64(5), object(5)\n",
            "memory usage: 72.5+ KB\n"
          ],
          "name": "stdout"
        }
      ]
    },
    {
      "cell_type": "code",
      "metadata": {
        "id": "9Np9I3253bg8",
        "colab_type": "code",
        "colab": {
          "base_uri": "https://localhost:8080/",
          "height": 353
        },
        "outputId": "f4d575db-47b7-41a4-eac3-7a0149579ed3"
      },
      "source": [
        "df_dr = df_dr_age.dropna(subset=[\"Embarked\"])\n",
        "df_dr.info()"
      ],
      "execution_count": 79,
      "outputs": [
        {
          "output_type": "stream",
          "text": [
            "<class 'pandas.core.frame.DataFrame'>\n",
            "Int64Index: 712 entries, 0 to 890\n",
            "Data columns (total 15 columns):\n",
            "PassengerId    712 non-null int64\n",
            "Survived       712 non-null int64\n",
            "Pclass         712 non-null int64\n",
            "Name           712 non-null object\n",
            "Sex            712 non-null object\n",
            "Age            712 non-null float64\n",
            "SibSp          712 non-null int64\n",
            "Parch          712 non-null int64\n",
            "Ticket         712 non-null object\n",
            "Fare           712 non-null float64\n",
            "Cabin          183 non-null object\n",
            "Embarked       712 non-null object\n",
            "Famsize        712 non-null int64\n",
            "Gencat         712 non-null int8\n",
            "Embarcat       712 non-null int8\n",
            "dtypes: float64(2), int64(6), int8(2), object(5)\n",
            "memory usage: 79.3+ KB\n"
          ],
          "name": "stdout"
        }
      ]
    },
    {
      "cell_type": "code",
      "metadata": {
        "id": "GtVjF6N_4O4R",
        "colab_type": "code",
        "colab": {
          "base_uri": "https://localhost:8080/",
          "height": 353
        },
        "outputId": "c1552f9f-ad82-430b-8b32-55d6d3c3e167"
      },
      "source": [
        "df_dr[\"Famsize\"] = df_dr[\"SibSp\"] + df_dr[\"Parch\"]\n",
        "df_dr[\"Gencat\"] = pd.Categorical(df_dr[\"Sex\"]).codes\n",
        "df_dr[\"Embarcat\"] = pd.Categorical(df_dr[\"Embarked\"]).codes\n",
        "df_dr.info()"
      ],
      "execution_count": 80,
      "outputs": [
        {
          "output_type": "stream",
          "text": [
            "<class 'pandas.core.frame.DataFrame'>\n",
            "Int64Index: 712 entries, 0 to 890\n",
            "Data columns (total 15 columns):\n",
            "PassengerId    712 non-null int64\n",
            "Survived       712 non-null int64\n",
            "Pclass         712 non-null int64\n",
            "Name           712 non-null object\n",
            "Sex            712 non-null object\n",
            "Age            712 non-null float64\n",
            "SibSp          712 non-null int64\n",
            "Parch          712 non-null int64\n",
            "Ticket         712 non-null object\n",
            "Fare           712 non-null float64\n",
            "Cabin          183 non-null object\n",
            "Embarked       712 non-null object\n",
            "Famsize        712 non-null int64\n",
            "Gencat         712 non-null int8\n",
            "Embarcat       712 non-null int8\n",
            "dtypes: float64(2), int64(6), int8(2), object(5)\n",
            "memory usage: 79.3+ KB\n"
          ],
          "name": "stdout"
        }
      ]
    },
    {
      "cell_type": "markdown",
      "metadata": {
        "id": "WyMi7x8555GM",
        "colab_type": "text"
      },
      "source": [
        "Famsize  \n",
        "Gencat  \n",
        "Embarcat  \n",
        "Fare  \n",
        "Age\n",
        "Pclass\n",
        "\n",
        "Survived"
      ]
    },
    {
      "cell_type": "code",
      "metadata": {
        "id": "ZcZtehK35-u7",
        "colab_type": "code",
        "colab": {
          "base_uri": "https://localhost:8080/",
          "height": 286
        },
        "outputId": "df877c64-4a7b-42fb-ed3a-a3031743fd70"
      },
      "source": [
        "param1 = \"Survived\"\n",
        "param2s = [\"Famsize\", \"Gencat\", \"Embarcat\", \"Fare\", \"Age\", \"Pclass\"]\n",
        "pear_list = []\n",
        "\n",
        "for a in param2s:\n",
        "    pear_list.append(pear_cor(df_dr[param1], df_dr[a]))\n",
        "\n",
        "pear_s = pd.Series(pear_list)\n",
        "\n",
        "pear_s.plot(kind=\"barh\")\n"
      ],
      "execution_count": 90,
      "outputs": [
        {
          "output_type": "execute_result",
          "data": {
            "text/plain": [
              "<matplotlib.axes._subplots.AxesSubplot at 0x7f03a5003cf8>"
            ]
          },
          "metadata": {
            "tags": []
          },
          "execution_count": 90
        },
        {
          "output_type": "display_data",
          "data": {
            "image/png": "[encoded data removed]",
            "text/plain": [
              "<Figure size 432x288 with 1 Axes>"
            ]
          },
          "metadata": {
            "tags": []
          }
        }
      ]
    }
  ]
}